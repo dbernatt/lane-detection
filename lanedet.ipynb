{
  "cells": [
    {
      "cell_type": "code",
      "source": [
        "!pip install -q condacolab\n",
        "import condacolab\n",
        "condacolab.install()"
      ],
      "metadata": {
        "id": "rjRR9gXvpZew"
      },
      "execution_count": null,
      "outputs": []
    },
    {
      "cell_type": "code",
      "execution_count": null,
      "metadata": {
        "id": "KSW83asIpX3U"
      },
      "outputs": [],
      "source": [
        "# init"
      ]
    },
    {
      "cell_type": "markdown",
      "metadata": {
        "id": "g9FKsvIBpX3W"
      },
      "source": []
    }
  ],
  "metadata": {
    "kernelspec": {
      "display_name": "lanedet",
      "language": "python",
      "name": "python3"
    },
    "language_info": {
      "codemirror_mode": {
        "name": "ipython",
        "version": 3
      },
      "file_extension": ".py",
      "mimetype": "text/x-python",
      "name": "python",
      "nbconvert_exporter": "python",
      "pygments_lexer": "ipython3",
      "version": "3.11.4"
    },
    "orig_nbformat": 4,
    "colab": {
      "provenance": []
    }
  },
  "nbformat": 4,
  "nbformat_minor": 0
}